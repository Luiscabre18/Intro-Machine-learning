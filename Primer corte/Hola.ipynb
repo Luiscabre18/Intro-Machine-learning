{
  "nbformat": 4,
  "nbformat_minor": 0,
  "metadata": {
    "colab": {
      "provenance": []
    },
    "kernelspec": {
      "name": "python3",
      "display_name": "Python 3"
    },
    "language_info": {
      "name": "python"
    }
  },
  "cells": [
    {
      "cell_type": "markdown",
      "source": [
        "#Hola"
      ],
      "metadata": {
        "id": "0EqssplwCR4p"
      }
    },
    {
      "cell_type": "code",
      "execution_count": 1,
      "metadata": {
        "id": "qa4dyeITBL4f",
        "colab": {
          "base_uri": "https://localhost:8080/"
        },
        "outputId": "acfade4a-7a15-4c9c-d72e-af0c1cd3b0ab"
      },
      "outputs": [
        {
          "output_type": "stream",
          "name": "stdout",
          "text": [
            "Hola Mundo\n"
          ]
        }
      ],
      "source": [
        "print(\"Hola Mundo\")"
      ]
    },
    {
      "cell_type": "code",
      "source": [],
      "metadata": {
        "id": "YY-9RpckCF64"
      },
      "execution_count": null,
      "outputs": []
    }
  ]
}